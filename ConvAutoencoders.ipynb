{
  "nbformat": 4,
  "nbformat_minor": 0,
  "metadata": {
    "colab": {
      "name": "ConvAutoencoders.ipynb",
      "version": "0.3.2",
      "provenance": [],
      "include_colab_link": true
    },
    "kernelspec": {
      "name": "python3",
      "display_name": "Python 3"
    }
  },
  "cells": [
    {
      "cell_type": "markdown",
      "metadata": {
        "id": "view-in-github",
        "colab_type": "text"
      },
      "source": [
        "<a href=\"https://colab.research.google.com/github/tanyadixit21/Autoencoders/blob/master/ConvAutoencoders.ipynb\" target=\"_parent\"><img src=\"https://colab.research.google.com/assets/colab-badge.svg\" alt=\"Open In Colab\"/></a>"
      ]
    },
    {
      "metadata": {
        "id": "NOIq1MIhzQ8-",
        "colab_type": "text"
      },
      "cell_type": "markdown",
      "source": [
        "# Autoencoders\n",
        "\n",
        "Autoencoders have various applications in data compression, converting high dimensional data to lower dimensional data, noise removal, generation of images etc."
      ]
    },
    {
      "metadata": {
        "id": "ad3kSzJ2zqy3",
        "colab_type": "text"
      },
      "cell_type": "markdown",
      "source": [
        "The second autoencoder architecture is a convolutional autoencoder."
      ]
    },
    {
      "metadata": {
        "id": "ws_-wnk46y-0",
        "colab_type": "text"
      },
      "cell_type": "markdown",
      "source": [
        "# Convolutional Autoencoders"
      ]
    },
    {
      "metadata": {
        "id": "NXvQyna3aVTz",
        "colab_type": "code",
        "colab": {}
      },
      "cell_type": "code",
      "source": [
        "import sys\n",
        "import tensorflow as tf\n",
        "import keras, keras.layers as layers, keras.backend as K\n",
        "import numpy as np\n",
        "from sklearn.model_selection import train_test_split\n",
        "%matplotlib inline\n",
        "import matplotlib.pyplot as plt\n",
        "import numpy as np\n"
      ],
      "execution_count": 0,
      "outputs": []
    },
    {
      "metadata": {
        "id": "6qePpAD2c0Js",
        "colab_type": "code",
        "colab": {}
      },
      "cell_type": "code",
      "source": [
        "def reset_tf_session():\n",
        "  K.clear_session()\n",
        "  tf.reset_default_graph()\n",
        "  s = K.get_session()\n",
        "  \n",
        "  return s"
      ],
      "execution_count": 0,
      "outputs": []
    },
    {
      "metadata": {
        "id": "djWfCq2NdFeX",
        "colab_type": "code",
        "colab": {}
      },
      "cell_type": "code",
      "source": [
        "mnist = tf.keras.datasets.mnist"
      ],
      "execution_count": 0,
      "outputs": []
    },
    {
      "metadata": {
        "id": "DU2HIFu_dQCd",
        "colab_type": "code",
        "colab": {}
      },
      "cell_type": "code",
      "source": [
        "(x_train, y_train),(x_test, y_test) = mnist.load_data()\n",
        "x_train, x_test = x_train / 255.0, x_test / 255.0\n",
        "x_train_r = x_train.reshape(-1, 28, 28, 1)\n",
        "x_test_r = x_test.reshape(-1, 28, 28, 1)"
      ],
      "execution_count": 0,
      "outputs": []
    },
    {
      "metadata": {
        "id": "n6nSkfFU6yUh",
        "colab_type": "code",
        "colab": {}
      },
      "cell_type": "code",
      "source": [
        ""
      ],
      "execution_count": 0,
      "outputs": []
    },
    {
      "metadata": {
        "id": "4o40SI1knD3L",
        "colab_type": "code",
        "colab": {}
      },
      "cell_type": "code",
      "source": [
        ""
      ],
      "execution_count": 0,
      "outputs": []
    },
    {
      "metadata": {
        "id": "ckzeQCCQdUDG",
        "colab_type": "code",
        "colab": {}
      },
      "cell_type": "code",
      "source": [
        "def show_img(x):\n",
        "  plt.imshow(x)"
      ],
      "execution_count": 0,
      "outputs": []
    },
    {
      "metadata": {
        "id": "k-5sbBSDe1pK",
        "colab_type": "code",
        "outputId": "e2539f77-e3f3-4b19-91f0-6734279e1c88",
        "colab": {
          "base_uri": "https://localhost:8080/",
          "height": 34
        }
      },
      "cell_type": "code",
      "source": [
        "print(x_train[1].shape)\n"
      ],
      "execution_count": 12,
      "outputs": [
        {
          "output_type": "stream",
          "text": [
            "(28, 28)\n"
          ],
          "name": "stdout"
        }
      ]
    },
    {
      "metadata": {
        "id": "JNKsYhS-uN2g",
        "colab_type": "code",
        "outputId": "5daa00bb-fa90-4eb2-da41-5d2e818663a2",
        "colab": {
          "base_uri": "https://localhost:8080/",
          "height": 265
        }
      },
      "cell_type": "code",
      "source": [
        "show_img(x_train[1][:])"
      ],
      "execution_count": 13,
      "outputs": [
        {
          "output_type": "display_data",
          "data": {
            "image/png": "[encoded data removed]",
            "text/plain": [
              "<Figure size 432x288 with 1 Axes>"
            ]
          },
          "metadata": {
            "tags": []
          }
        }
      ]
    },
    {
      "metadata": {
        "id": "uafeWcqthHuc",
        "colab_type": "text"
      },
      "cell_type": "markdown",
      "source": [
        "First let's try to build a simple AUtoencoder architecture using 1D layers. We will try to reduce the number of nodes in the hidden layer so that the network is forced to find out smaller dimension representation of the given data.\n"
      ]
    },
    {
      "metadata": {
        "id": "zGqOuJAmk6_x",
        "colab_type": "code",
        "colab": {}
      },
      "cell_type": "code",
      "source": [
        "img_shape = (28, 28, 1)"
      ],
      "execution_count": 0,
      "outputs": []
    },
    {
      "metadata": {
        "id": "JB48n46AgWi0",
        "colab_type": "code",
        "colab": {}
      },
      "cell_type": "code",
      "source": [
        "def convolutional_autoencoder(img_shape, encoder_size):\n",
        "  \n",
        "  H,W,C = img_shape\n",
        "  \n",
        "  \n",
        "  encoder = keras.models.Sequential()\n",
        "  encoder.add(layers.InputLayer(img_shape))\n",
        "  encoder.add(layers.Conv2D(filters=28, kernel_size=(3,3), padding=\"same\", activation=\"elu\"))\n",
        "  encoder.add(layers.MaxPooling2D(pool_size=(2, 2), strides=None, padding='same', data_format=None))\n",
        "    \n",
        "  encoder.add(layers.Conv2D(filters=56, kernel_size=(3,3), padding=\"same\", activation=\"elu\"))\n",
        "  encoder.add(layers.MaxPooling2D(pool_size=(2, 2), strides=None, padding='same', data_format=None))\n",
        "    \n",
        "  encoder.add(layers.Conv2D(filters=112, kernel_size=(3,3), padding=\"same\", activation=\"elu\"))\n",
        "  encoder.add(layers.MaxPooling2D(pool_size=(2, 2), strides=None, padding='same', data_format=None))\n",
        "    \n",
        "  encoder.add(layers.Conv2D(filters=196, kernel_size=(3,3), padding=\"same\", activation=\"elu\")) #keeping it 196 so that 28x28 is divisible by it\n",
        "  encoder.add(layers.MaxPooling2D(pool_size=(2, 2), strides=None, padding='same', data_format=None))\n",
        "    \n",
        "  encoder.add(layers.Flatten())\n",
        "  encoder.add(layers.Dense(encoder_size, activation=None, use_bias=True, kernel_initializer='glorot_uniform'))\n",
        "\n",
        "  \n",
        "  \n",
        "  decoder = keras.models.Sequential()\n",
        "  decoder.add(layers.InputLayer((encoder_size,)))\n",
        "  decoder.add(layers.Dense((H*W)))\n",
        "  print(H*W)\n",
        "  \n",
        "  dec_shape = int(((H*W)/196)**0.5)\n",
        "  \n",
        "  decoder.add(layers.Reshape((dec_shape, dec_shape, 196)))\n",
        "  \n",
        "  decoder.add(layers.Conv2DTranspose(filters=112, kernel_size=(3, 3), strides=2, activation='elu', padding='same'))\n",
        "  decoder.add(layers.Conv2DTranspose(filters=56, kernel_size=(3, 3), strides=2, activation='elu', padding='same'))\n",
        "  decoder.add(layers.Conv2DTranspose(filters=28, kernel_size=(3, 3), strides=2, activation='elu', padding='same'))\n",
        "  decoder.add(layers.Conv2DTranspose(filters=1, kernel_size=(3, 3), strides=2, activation=None, padding='same'))\n",
        "  \n",
        "  return encoder, decoder\n",
        "  \n",
        "  "
      ],
      "execution_count": 0,
      "outputs": []
    },
    {
      "metadata": {
        "id": "yPaATSd2kvvl",
        "colab_type": "code",
        "colab": {
          "base_uri": "https://localhost:8080/",
          "height": 34
        },
        "outputId": "88d36a1b-f41e-4f35-f48f-4bdf4566acd3"
      },
      "cell_type": "code",
      "source": [
        "sess = reset_tf_session()\n",
        "\n",
        "encoder, decoder = convolutional_autoencoder(img_shape, 28)"
      ],
      "execution_count": 49,
      "outputs": [
        {
          "output_type": "stream",
          "text": [
            "784\n"
          ],
          "name": "stdout"
        }
      ]
    },
    {
      "metadata": {
        "id": "30P4dOFWmLJC",
        "colab_type": "code",
        "colab": {}
      },
      "cell_type": "code",
      "source": [
        "inp = layers.Input(img_shape) #placeholder creation\n",
        "code = encoder(inp)\n",
        "decode = decoder(code)"
      ],
      "execution_count": 0,
      "outputs": []
    },
    {
      "metadata": {
        "id": "Tu1_-8HShbLA",
        "colab_type": "code",
        "colab": {}
      },
      "cell_type": "code",
      "source": [
        "autoencoder_final = keras.models.Model(inputs=inp, outputs=decode)\n",
        "autoencoder_final.compile(optimizer='adam', loss='mse')"
      ],
      "execution_count": 0,
      "outputs": []
    },
    {
      "metadata": {
        "id": "JO6aAMoKl0R-",
        "colab_type": "code",
        "outputId": "29081984-339e-4581-fbcc-3509fda5379b",
        "colab": {
          "base_uri": "https://localhost:8080/",
          "height": 574
        }
      },
      "cell_type": "code",
      "source": [
        "autoencoder_final.fit(x=x_train_r, y=x_train_r, epochs=15,\n",
        "                validation_data=[x_test_r, x_test_r],\n",
        "                verbose=0)"
      ],
      "execution_count": 52,
      "outputs": [
        {
          "output_type": "error",
          "ename": "ValueError",
          "evalue": "ignored",
          "traceback": [
            "\u001b[0;31m---------------------------------------------------------------------------\u001b[0m",
            "\u001b[0;31mValueError\u001b[0m                                Traceback (most recent call last)",
            "\u001b[0;32m<ipython-input-52-698dbbc5b95c>\u001b[0m in \u001b[0;36m<module>\u001b[0;34m()\u001b[0m\n\u001b[1;32m      1\u001b[0m autoencoder_final.fit(x=x_train_r, y=x_train_r, epochs=15,\n\u001b[1;32m      2\u001b[0m                 \u001b[0mvalidation_data\u001b[0m\u001b[0;34m=\u001b[0m\u001b[0;34m[\u001b[0m\u001b[0mx_test_r\u001b[0m\u001b[0;34m,\u001b[0m \u001b[0mx_test_r\u001b[0m\u001b[0;34m]\u001b[0m\u001b[0;34m,\u001b[0m\u001b[0;34m\u001b[0m\u001b[0;34m\u001b[0m\u001b[0m\n\u001b[0;32m----> 3\u001b[0;31m                 verbose=0)\n\u001b[0m",
            "\u001b[0;32m/usr/local/lib/python3.6/dist-packages/keras/engine/training.py\u001b[0m in \u001b[0;36mfit\u001b[0;34m(self, x, y, batch_size, epochs, verbose, callbacks, validation_split, validation_data, shuffle, class_weight, sample_weight, initial_epoch, steps_per_epoch, validation_steps, **kwargs)\u001b[0m\n\u001b[1;32m    950\u001b[0m             \u001b[0msample_weight\u001b[0m\u001b[0;34m=\u001b[0m\u001b[0msample_weight\u001b[0m\u001b[0;34m,\u001b[0m\u001b[0;34m\u001b[0m\u001b[0;34m\u001b[0m\u001b[0m\n\u001b[1;32m    951\u001b[0m             \u001b[0mclass_weight\u001b[0m\u001b[0;34m=\u001b[0m\u001b[0mclass_weight\u001b[0m\u001b[0;34m,\u001b[0m\u001b[0;34m\u001b[0m\u001b[0;34m\u001b[0m\u001b[0m\n\u001b[0;32m--> 952\u001b[0;31m             batch_size=batch_size)\n\u001b[0m\u001b[1;32m    953\u001b[0m         \u001b[0;31m# Prepare validation data.\u001b[0m\u001b[0;34m\u001b[0m\u001b[0;34m\u001b[0m\u001b[0;34m\u001b[0m\u001b[0m\n\u001b[1;32m    954\u001b[0m         \u001b[0mdo_validation\u001b[0m \u001b[0;34m=\u001b[0m \u001b[0;32mFalse\u001b[0m\u001b[0;34m\u001b[0m\u001b[0;34m\u001b[0m\u001b[0m\n",
            "\u001b[0;32m/usr/local/lib/python3.6/dist-packages/keras/engine/training.py\u001b[0m in \u001b[0;36m_standardize_user_data\u001b[0;34m(self, x, y, sample_weight, class_weight, check_array_lengths, batch_size)\u001b[0m\n\u001b[1;32m    787\u001b[0m                 \u001b[0mfeed_output_shapes\u001b[0m\u001b[0;34m,\u001b[0m\u001b[0;34m\u001b[0m\u001b[0;34m\u001b[0m\u001b[0m\n\u001b[1;32m    788\u001b[0m                 \u001b[0mcheck_batch_axis\u001b[0m\u001b[0;34m=\u001b[0m\u001b[0;32mFalse\u001b[0m\u001b[0;34m,\u001b[0m  \u001b[0;31m# Don't enforce the batch size.\u001b[0m\u001b[0;34m\u001b[0m\u001b[0;34m\u001b[0m\u001b[0m\n\u001b[0;32m--> 789\u001b[0;31m                 exception_prefix='target')\n\u001b[0m\u001b[1;32m    790\u001b[0m \u001b[0;34m\u001b[0m\u001b[0m\n\u001b[1;32m    791\u001b[0m             \u001b[0;31m# Generate sample-wise weight values given the `sample_weight` and\u001b[0m\u001b[0;34m\u001b[0m\u001b[0;34m\u001b[0m\u001b[0;34m\u001b[0m\u001b[0m\n",
            "\u001b[0;32m/usr/local/lib/python3.6/dist-packages/keras/engine/training_utils.py\u001b[0m in \u001b[0;36mstandardize_input_data\u001b[0;34m(data, names, shapes, check_batch_axis, exception_prefix)\u001b[0m\n\u001b[1;32m    136\u001b[0m                             \u001b[0;34m': expected '\u001b[0m \u001b[0;34m+\u001b[0m \u001b[0mnames\u001b[0m\u001b[0;34m[\u001b[0m\u001b[0mi\u001b[0m\u001b[0;34m]\u001b[0m \u001b[0;34m+\u001b[0m \u001b[0;34m' to have shape '\u001b[0m \u001b[0;34m+\u001b[0m\u001b[0;34m\u001b[0m\u001b[0;34m\u001b[0m\u001b[0m\n\u001b[1;32m    137\u001b[0m                             \u001b[0mstr\u001b[0m\u001b[0;34m(\u001b[0m\u001b[0mshape\u001b[0m\u001b[0;34m)\u001b[0m \u001b[0;34m+\u001b[0m \u001b[0;34m' but got array with shape '\u001b[0m \u001b[0;34m+\u001b[0m\u001b[0;34m\u001b[0m\u001b[0;34m\u001b[0m\u001b[0m\n\u001b[0;32m--> 138\u001b[0;31m                             str(data_shape))\n\u001b[0m\u001b[1;32m    139\u001b[0m     \u001b[0;32mreturn\u001b[0m \u001b[0mdata\u001b[0m\u001b[0;34m\u001b[0m\u001b[0;34m\u001b[0m\u001b[0m\n\u001b[1;32m    140\u001b[0m \u001b[0;34m\u001b[0m\u001b[0m\n",
            "\u001b[0;31mValueError\u001b[0m: Error when checking target: expected sequential_2 to have shape (32, 32, 1) but got array with shape (28, 28, 1)"
          ]
        }
      ]
    },
    {
      "metadata": {
        "id": "KTx7_367nw5u",
        "colab_type": "code",
        "colab": {}
      },
      "cell_type": "code",
      "source": [
        "img = x_test[5]"
      ],
      "execution_count": 0,
      "outputs": []
    },
    {
      "metadata": {
        "id": "XcPuV1gbn8Zh",
        "colab_type": "code",
        "outputId": "facae562-fb79-42b0-da6d-a7dff0192482",
        "colab": {
          "base_uri": "https://localhost:8080/",
          "height": 265
        }
      },
      "cell_type": "code",
      "source": [
        "show_img(img)"
      ],
      "execution_count": 0,
      "outputs": [
        {
          "output_type": "display_data",
          "data": {
            "image/png": "[encoded data removed]",
            "text/plain": [
              "<Figure size 432x288 with 1 Axes>"
            ]
          },
          "metadata": {
            "tags": []
          }
        }
      ]
    },
    {
      "metadata": {
        "id": "nzcvdgS3pl35",
        "colab_type": "code",
        "outputId": "cc1f4462-1396-4574-d667-b23bbb04ef69",
        "colab": {
          "base_uri": "https://localhost:8080/",
          "height": 34
        }
      },
      "cell_type": "code",
      "source": [
        "img.shape"
      ],
      "execution_count": 0,
      "outputs": [
        {
          "output_type": "execute_result",
          "data": {
            "text/plain": [
              "(28, 28)"
            ]
          },
          "metadata": {
            "tags": []
          },
          "execution_count": 81
        }
      ]
    },
    {
      "metadata": {
        "id": "VpVcvBIKq925",
        "colab_type": "code",
        "outputId": "5880f74d-5fd3-4048-c557-606ecfd76539",
        "colab": {
          "base_uri": "https://localhost:8080/",
          "height": 34
        }
      },
      "cell_type": "code",
      "source": [
        "img[None].shape"
      ],
      "execution_count": 0,
      "outputs": [
        {
          "output_type": "execute_result",
          "data": {
            "text/plain": [
              "(1, 28, 28)"
            ]
          },
          "metadata": {
            "tags": []
          },
          "execution_count": 98
        }
      ]
    },
    {
      "metadata": {
        "id": "oi22DESXwjSL",
        "colab_type": "code",
        "outputId": "fed2401d-d6fc-428c-e233-f21ac79c2551",
        "colab": {
          "base_uri": "https://localhost:8080/",
          "height": 34
        }
      },
      "cell_type": "code",
      "source": [
        "imgx = np.asarray(img[None]).reshape((1,28,28,1))\n",
        "\n",
        "print(imgx.shape)"
      ],
      "execution_count": 0,
      "outputs": [
        {
          "output_type": "stream",
          "text": [
            "(1, 28, 28, 1)\n"
          ],
          "name": "stdout"
        }
      ]
    },
    {
      "metadata": {
        "id": "jJNuS6ryoCDJ",
        "colab_type": "code",
        "outputId": "4d76d472-da53-4116-a849-cb8a1bdfa0b3",
        "colab": {
          "base_uri": "https://localhost:8080/",
          "height": 79
        }
      },
      "cell_type": "code",
      "source": [
        "code = encoder.predict(imgx)\n",
        "print(code.shape)\n",
        "show_img(code)"
      ],
      "execution_count": 0,
      "outputs": [
        {
          "output_type": "stream",
          "text": [
            "(1, 32)\n"
          ],
          "name": "stdout"
        },
        {
          "output_type": "display_data",
          "data": {
            "image/png": "[encoded data removed]",
            "text/plain": [
              "<Figure size 432x288 with 1 Axes>"
            ]
          },
          "metadata": {
            "tags": []
          }
        }
      ]
    },
    {
      "metadata": {
        "id": "chTdmOhIopS5",
        "colab_type": "code",
        "outputId": "d7b34cd5-32c2-4d9a-9fad-afa15ad98012",
        "colab": {
          "base_uri": "https://localhost:8080/",
          "height": 34
        }
      },
      "cell_type": "code",
      "source": [
        "dec= decoder.predict(code)\n",
        "print(dec.shape)"
      ],
      "execution_count": 0,
      "outputs": [
        {
          "output_type": "stream",
          "text": [
            "(1, 28, 28, 1)\n"
          ],
          "name": "stdout"
        }
      ]
    },
    {
      "metadata": {
        "id": "eli_tPmxy_aS",
        "colab_type": "code",
        "outputId": "be8d3949-ae4f-456a-95c4-6f995de8511a",
        "colab": {
          "base_uri": "https://localhost:8080/",
          "height": 265
        }
      },
      "cell_type": "code",
      "source": [
        "dec_final = np.asarray(dec).reshape((28,28))\n",
        "show_img(dec_final)"
      ],
      "execution_count": 0,
      "outputs": [
        {
          "output_type": "display_data",
          "data": {
            "image/png": "[encoded data removed]",
            "text/plain": [
              "<Figure size 432x288 with 1 Axes>"
            ]
          },
          "metadata": {
            "tags": []
          }
        }
      ]
    }
  ]
}